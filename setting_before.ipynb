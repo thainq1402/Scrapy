{
 "cells": [
  {
   "cell_type": "code",
   "execution_count": 12,
   "metadata": {},
   "outputs": [
    {
     "name": "stdout",
     "output_type": "stream",
     "text": [
      "Requirement already satisfied: pyautogui in c:\\users\\nguye\\appdata\\local\\programs\\python\\python312\\lib\\site-packages (0.9.54)\n",
      "Requirement already satisfied: pymsgbox in c:\\users\\nguye\\appdata\\local\\programs\\python\\python312\\lib\\site-packages (from pyautogui) (1.0.9)\n",
      "Requirement already satisfied: pytweening>=1.0.4 in c:\\users\\nguye\\appdata\\local\\programs\\python\\python312\\lib\\site-packages (from pyautogui) (1.2.0)\n",
      "Requirement already satisfied: pyscreeze>=0.1.21 in c:\\users\\nguye\\appdata\\local\\programs\\python\\python312\\lib\\site-packages (from pyautogui) (0.1.30)\n",
      "Requirement already satisfied: pygetwindow>=0.0.5 in c:\\users\\nguye\\appdata\\local\\programs\\python\\python312\\lib\\site-packages (from pyautogui) (0.0.9)\n",
      "Requirement already satisfied: mouseinfo in c:\\users\\nguye\\appdata\\local\\programs\\python\\python312\\lib\\site-packages (from pyautogui) (0.1.3)\n",
      "Requirement already satisfied: pyrect in c:\\users\\nguye\\appdata\\local\\programs\\python\\python312\\lib\\site-packages (from pygetwindow>=0.0.5->pyautogui) (0.2.0)\n",
      "Requirement already satisfied: pyperclip in c:\\users\\nguye\\appdata\\local\\programs\\python\\python312\\lib\\site-packages (from mouseinfo->pyautogui) (1.8.2)\n"
     ]
    },
    {
     "name": "stderr",
     "output_type": "stream",
     "text": [
      "\n",
      "[notice] A new release of pip is available: 24.1 -> 24.1.1\n",
      "[notice] To update, run: python.exe -m pip install --upgrade pip\n"
     ]
    }
   ],
   "source": [
    "!pip install pyautogui"
   ]
  },
  {
   "cell_type": "code",
   "execution_count": 13,
   "metadata": {},
   "outputs": [],
   "source": [
    "import pyautogui as pag\n",
    "import os\n",
    "import time"
   ]
  },
  {
   "cell_type": "code",
   "execution_count": 14,
   "metadata": {},
   "outputs": [
    {
     "name": "stdout",
     "output_type": "stream",
     "text": [
      "c:/Users/nguye/OneDrive/Desktop/Scrapy_20231-master\n"
     ]
    }
   ],
   "source": [
    "current = os.getcwd().replace(\"\\\\\", \"/\") #Lấy vị trí hiện tại\n",
    "print(current)"
   ]
  },
  {
   "cell_type": "code",
   "execution_count": 15,
   "metadata": {},
   "outputs": [],
   "source": [
    "\n",
    "pag.hotkey('shift', 'ctrl', '`')\n",
    "time.sleep(1)  # Thêm độ trễ để đảm bảo terminal đã mở trước khi nhập\n",
    "pag.typewrite(\"pip install bs4\\n\\\n",
    "pip install requests\\n\\\n",
    "pip install lxml\\n\\\n",
    "pip install pandas\\n\\\n",
    "pip install mysql-connector-python\\n\\\n",
    "pip install datetime\\n\\\n",
    "pip install selenium\\n\\\n",
    "pip install webdriver_manager\")\n",
    "pag.press('enter', interval=0.1)                          #Cài đặt các thư viện cần thiết ngoài ảo"
   ]
  },
  {
   "cell_type": "code",
   "execution_count": null,
   "metadata": {},
   "outputs": [],
   "source": [
    "pag.hotkey('shift', 'ctrl', '`')\n",
    "time.sleep(1)  # Thêm độ trễ để đảm bảo terminal đã mở trước khi nhập\n",
    "pag.typewrite(f\"pip install virtualenv\\n\"\n",
    "              f\"python -m venv venv\\n\"\n",
    "              f\"{current}/venv/Scripts/Activate.ps1\\n\")\n",
    "pag.typewrite(\"pip install scrapy\\n\\\n",
    "pip install numpy\\n\\\n",
    "pip install requests\\n\\\n",
    "pip install mysql-connector-python\\n\\\n",
    "pip install datetime\\n\\\n",
    "pip install typing\\n\\\n",
    "pip install bs4\")\n",
    "pag.press('enter', interval=0.1)                          #Kích hoạt môi trường ảo venv"
   ]
  }
 ],
 "metadata": {
  "kernelspec": {
   "display_name": "Python 3",
   "language": "python",
   "name": "python3"
  },
  "language_info": {
   "codemirror_mode": {
    "name": "ipython",
    "version": 3
   },
   "file_extension": ".py",
   "mimetype": "text/x-python",
   "name": "python",
   "nbconvert_exporter": "python",
   "pygments_lexer": "ipython3",
   "version": "3.12.0"
  }
 },
 "nbformat": 4,
 "nbformat_minor": 2
}
