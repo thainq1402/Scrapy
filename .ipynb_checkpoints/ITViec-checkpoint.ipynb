{
 "cells": [
  {
   "cell_type": "code",
   "execution_count": 1,
   "metadata": {},
   "outputs": [],
   "source": [
    "from bs4 import BeautifulSoup\n",
    "import requests\n",
    "# Parsing and creating xml data\n",
    "from lxml import etree as et\n",
    "\n",
    "# Store data as a csv file written out\n",
    "from csv import writer\n",
    "\n",
    "# In general to use with timing our function calls to Indeed\n",
    "import time\n",
    "\n",
    "# Assist with creating incremental timing for our scraping to seem more human\n",
    "from time import sleep\n",
    "\n",
    "# Dataframe stuff\n",
    "import pandas as pd\n",
    "\n",
    "# Random integer for more realistic timing for clicks, buttons and searches during scraping\n",
    "from random import randint\n",
    "\n",
    "# Multi Threading\n",
    "import threading\n",
    "\n",
    "# Threading:\n",
    "from concurrent.futures import ThreadPoolExecutor, wait\n",
    "import math\n",
    "import mysql.connector\n",
    "from datetime import date"
   ]
  },
  {
   "cell_type": "code",
   "execution_count": 2,
   "metadata": {},
   "outputs": [
    {
     "data": {
      "text/plain": [
       "'4.15.2'"
      ]
     },
     "execution_count": 2,
     "metadata": {},
     "output_type": "execute_result"
    }
   ],
   "source": [
    "import selenium\n",
    "\n",
    "# Check version I am running\n",
    "selenium.__version__"
   ]
  },
  {
   "cell_type": "code",
   "execution_count": 3,
   "metadata": {},
   "outputs": [],
   "source": [
    "from selenium import webdriver\n",
    "\n",
    "# Starting/Stopping Driver: can specify ports or location but not remote access\n",
    "from selenium.webdriver.chrome.service import Service as ChromeService\n",
    "\n",
    "# Manages Binaries needed for WebDriver without installing anything directly\n",
    "from webdriver_manager.chrome import ChromeDriverManager"
   ]
  },
  {
   "cell_type": "code",
   "execution_count": 4,
   "metadata": {},
   "outputs": [],
   "source": [
    "# Allows searchs similar to beautiful soup: find_all\n",
    "from selenium.webdriver.common.by import By\n",
    "\n",
    "# Try to establish wait times for the page to load\n",
    "from selenium.webdriver.support.ui import WebDriverWait\n",
    "\n",
    "# Wait for specific condition based on defined task: web elements, boolean are examples\n",
    "from selenium.webdriver.support import expected_conditions as EC\n",
    "\n",
    "# Used for keyboard movements, up/down, left/right,delete, etc\n",
    "from selenium.webdriver.common.keys import Keys\n",
    "\n",
    "# Locate elements on page and throw error if they do not exist\n",
    "from selenium.common.exceptions import NoSuchElementException"
   ]
  },
  {
   "cell_type": "code",
   "execution_count": 5,
   "metadata": {},
   "outputs": [
    {
     "name": "stdout",
     "output_type": "stream",
     "text": [
      "{'upgrade-insecure-requests': '1', 'user-agent': 'Mozilla/5.0 (Macintosh; Intel Mac OS X 10_14_6) AppleWebKit/537.36 (KHTML, like Gecko) Chrome/89.0.4389.90 Safari/537.36', 'accept': 'text/html,application/xhtml+xml,application/xml;q=0.9,image/webp,image/apng,*/*;q=0.8', 'sec-ch-ua': 'Google Chrome;v=\"89\", \"Chromium\";v=\"89\", \";Not A Brand\";v=\"99\"', 'sec-ch-ua-mobile': '?0', 'sec-ch-ua-platform': 'macOS', 'sec-fetch-site': 'none', 'sec-fetch-mod': '', 'sec-fetch-user': '?1', 'accept-encoding': 'gzip, deflate', 'accept-language': 'en-US,en;q=0.5'}\n"
     ]
    }
   ],
   "source": [
    "response = requests.get(\n",
    "  url='https://headers.scrapeops.io/v1/browser-headers',\n",
    "  params={\n",
    "      'api_key': 'cca4ced0-490d-41a0-b258-46f2ad7e74b3',\n",
    "      'num_results': '100'}\n",
    ")\n",
    "header_browser_list = response.json()\n",
    "print(header_browser_list['result'][0])"
   ]
  },
  {
   "cell_type": "code",
   "execution_count": 6,
   "metadata": {},
   "outputs": [
    {
     "name": "stdout",
     "output_type": "stream",
     "text": [
      "Mozilla/5.0 (Windows NT 10.0; Win64; x64) AppleWebKit/537.36 (KHTML, like Gecko) Chrome/42.0.2311.135 Safari/537.36 Edge/12.10240\n"
     ]
    }
   ],
   "source": [
    "response = requests.get(\n",
    "  url='https://headers.scrapeops.io/v1/user-agents',\n",
    "  params={\n",
    "      'api_key': 'cca4ced0-490d-41a0-b258-46f2ad7e74b3',\n",
    "      'num_results': '100'}\n",
    ")\n",
    "user_agent_list = response.json()\n",
    "print(user_agent_list['result'][0])"
   ]
  },
  {
   "cell_type": "code",
   "execution_count": 7,
   "metadata": {},
   "outputs": [],
   "source": [
    "random_index_user_agent = randint(0, len(user_agent_list)-1)\n",
    "random_index_header_browser = randint(0, len(header_browser_list)-1)\n",
    "user_agent_random = user_agent_list['result'][random_index_user_agent]\n",
    "header_browser_random = header_browser_list['result'][random_index_header_browser]"
   ]
  },
  {
   "cell_type": "code",
   "execution_count": 8,
   "metadata": {},
   "outputs": [],
   "source": [
    "# Allows you to cusotmize: ingonito mode, maximize window size, headless browser, disable certain features, etc\n",
    "option = webdriver.ChromeOptions()\n",
    "\n",
    "# Going undercover:\n",
    "option.add_argument(\"--incognito\")\n",
    "\n",
    "\n",
    "# # Consider this if the application works and you know how it works for speed ups and rendering!\n",
    "\n",
    "option.add_argument('--headless=chrome')\n",
    "user_agent = user_agent_random\n",
    "option.add_argument(f\"user-agent={user_agent}\")\n",
    "\n",
    "# Thêm header vào Options\n",
    "headers = header_browser_random\n",
    "\n",
    "for key, value in headers.items():\n",
    "    option.add_argument(f\"--header={key}:{value}\")"
   ]
  },
  {
   "cell_type": "code",
   "execution_count": 9,
   "metadata": {},
   "outputs": [
    {
     "name": "stdout",
     "output_type": "stream",
     "text": [
      "34\n"
     ]
    }
   ],
   "source": [
    "driver = webdriver.Chrome(service=ChromeService(ChromeDriverManager().install()),options=option)\n",
    "\n",
    "driver.get(\"https://itviec.com/it-jobs?\")\n",
    "\n",
    "job_count = driver.find_element(By.CLASS_NAME,'headline-total-jobs').text\n",
    "number_of_jobs = job_count.split()[0]\n",
    "if (int(number_of_jobs) % 20 == 0):\n",
    "    max_page  = int(number_of_jobs) / 20 \n",
    "else:\n",
    "    max_page = math.floor(int(number_of_jobs) / 20) + 1\n",
    "print(max_page)\n",
    "driver.quit()\n",
    "job_urls = [] #Mảng lưu trữ tất cả url lấy được từ web"
   ]
  },
  {
   "cell_type": "code",
   "execution_count": 10,
   "metadata": {},
   "outputs": [],
   "source": [
    "page_url =\"https://itviec.com/it-jobs?page={}\"\n",
    "# for page_number in range(1, int(max_page + 1)):\n",
    "for page_number in range(1, 3):\n",
    "    random_index_user_agent = randint(0, len(user_agent_list)-1)\n",
    "    random_index_header_browser = randint(0, len(header_browser_list)-1)\n",
    "    user_agent_random = user_agent_list['result'][random_index_user_agent]\n",
    "    header_browser_random = header_browser_list['result'][random_index_header_browser]\n",
    "    user_agent = user_agent_random\n",
    "\n",
    "    option.add_argument(f\"user-agent={user_agent}\")\n",
    "\n",
    "    # Thêm header vào Options\n",
    "    headers = header_browser_random\n",
    "\n",
    "    for key, value in headers.items():\n",
    "        option.add_argument(f\"--header={key}:{value}\")\n",
    "        \n",
    "    driver = webdriver.Chrome(service=ChromeService(ChromeDriverManager().install()),options=option)\n",
    "    driver.get(page_url.format(page_number))\n",
    "    sleep(randint(3, 5))\n",
    "    jobs = driver.find_elements(By.CLASS_NAME,\"job-card\")\n",
    "    for job in jobs:\n",
    "        job_url = job.find_element(By.CSS_SELECTOR,'a').get_attribute(\"href\")\n",
    "        job_urls.append(job_url)\n",
    "    # sleep(randint(6, 10))\n",
    "    driver.quit()"
   ]
  },
  {
   "cell_type": "code",
   "execution_count": 11,
   "metadata": {},
   "outputs": [],
   "source": [
    "conn = mysql.connector.connect(\n",
    "    host='103.56.158.31',\n",
    "    port = 3306,\n",
    "    user= 'tuyendungUser',\n",
    "    password='sinhvienBK',\n",
    "    database= 'ThongTinTuyenDung'\n",
    ")\n",
    "cursor = conn.cursor()"
   ]
  },
  {
   "cell_type": "code",
   "execution_count": 12,
   "metadata": {},
   "outputs": [],
   "source": [
    "sql = 'INSERT IGNORE INTO Stg_ThongTin(Web, Nganh, Link, TenCV, CongTy, TinhThanh, Luong, LoaiHinh, KinhNghiem, CapBac, HanNopCV, YeuCau, MoTa, PhucLoi, SoLuong) VALUES (%s, %s, %s, %s,%s,%s,%s, %s, %s, %s, %s, %s, %s, %s,%s)'"
   ]
  },
  {
   "cell_type": "code",
   "execution_count": 13,
   "metadata": {},
   "outputs": [],
   "source": [
    "sql_link = 'SELECT Link FROM Stg_ThongTin where Web =\\'ITViec\\''"
   ]
  },
  {
   "cell_type": "code",
   "execution_count": 14,
   "metadata": {},
   "outputs": [
    {
     "name": "stdout",
     "output_type": "stream",
     "text": [
      "Số url cào về:  40\n",
      "Đã lấy link thành công\n",
      "Số lượng link mới sau xử lí lấy được:  0\n"
     ]
    }
   ],
   "source": [
    "cursor.execute(sql_link)\n",
    "result = cursor.fetchall()\n",
    "remove_url_list = [row[0] for row in result]\n",
    "print(\"Số url cào về: \", len(job_urls))\n",
    "for job_url in remove_url_list:\n",
    "    if job_url in job_urls:\n",
    "        job_urls.remove(job_url)\n",
    "print(\"Đã lấy link thành công\")\n",
    "print(\"Số lượng link mới sau xử lí lấy được: \", len(job_urls))"
   ]
  },
  {
   "cell_type": "code",
   "execution_count": 15,
   "metadata": {},
   "outputs": [
    {
     "name": "stdout",
     "output_type": "stream",
     "text": [
      "Đã thêm tin thành công\n"
     ]
    }
   ],
   "source": [
    "if len(job_urls) > 0:\n",
    "    for i in range(len(job_urls)):\n",
    "        driver = webdriver.Chrome(service=ChromeService(ChromeDriverManager().install()),options=option)\n",
    "        driver.get(job_urls[i])\n",
    "        print(\"Đang xử lí....\", job_urls[i])\n",
    "        sleep(randint(1, 3))\n",
    "        Web = 'ITViec'\n",
    "        Nganh = 'IT'\n",
    "        Link = job_urls[i]\n",
    "        TenCV = driver.find_element(By.CLASS_NAME, 'ipt-md-6').text\n",
    "        CongTy = driver.find_element(By.CLASS_NAME, 'employer-name').text\n",
    "        TinhThanh = driver.find_elements(By.CSS_SELECTOR, '[class=\"normal-text text-rich-grey\"]')[0].text\n",
    "        Luong = 'Không có'\n",
    "        LoaiHinh = driver.find_element(By.CSS_SELECTOR, '[class=\"normal-text text-rich-grey ms-1\"]').text\n",
    "        KinhNghiem = \"Không có\"\n",
    "        CapBac = 'Không có'\n",
    "        HanNopCV = date.today()\n",
    "        try:\n",
    "            YeuCau = driver.find_elements(By.CLASS_NAME, 'imy-5')[1].text\n",
    "        except:\n",
    "            YeuCau = \"\"\n",
    "        try:\n",
    "            MoTa = driver.find_elements(By.CLASS_NAME, 'imy-5')[0].text\n",
    "        except:\n",
    "            MoTa = \"\"\n",
    "        try:\n",
    "            PhucLoi = driver.find_elements(By.CLASS_NAME, 'imy-5')[2].text\n",
    "        except:\n",
    "            PhucLoi = \"\"\n",
    "        SoLuong = '1'\n",
    "        cursor.execute(sql, (Web, Nganh, Link, TenCV, CongTy, TinhThanh, Luong, LoaiHinh, KinhNghiem, CapBac, HanNopCV, YeuCau, MoTa, PhucLoi, SoLuong))\n",
    "        conn.commit()\n",
    "        driver.quit()\n",
    "    cursor.close()\n",
    "    conn.close()\n",
    "    print(\"Đã thêm tin thành công\")\n",
    "else:\n",
    "    print(\"Không có tin mới để thêm\")"
   ]
  }
 ],
 "metadata": {
  "kernelspec": {
   "display_name": "Python 3",
   "language": "python",
   "name": "python3"
  },
  "language_info": {
   "codemirror_mode": {
    "name": "ipython",
    "version": 3
   },
   "file_extension": ".py",
   "mimetype": "text/x-python",
   "name": "python",
   "nbconvert_exporter": "python",
   "pygments_lexer": "ipython3",
   "version": "3.11.7"
  }
 },
 "nbformat": 4,
 "nbformat_minor": 2
}
