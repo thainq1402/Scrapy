{
 "cells": [
  {
   "cell_type": "code",
   "execution_count": 1,
   "metadata": {},
   "outputs": [],
   "source": [
    "from bs4 import BeautifulSoup\n",
    "import requests\n",
    "# Parsing and creating xml data\n",
    "from lxml import etree as et\n",
    "\n",
    "# Store data as a csv file written out\n",
    "from csv import writer\n",
    "\n",
    "# In general to use with timing our function calls to Indeed\n",
    "import time\n",
    "\n",
    "# Assist with creating incremental timing for our scraping to seem more human\n",
    "from time import sleep\n",
    "\n",
    "# Dataframe stuff\n",
    "import pandas as pd\n",
    "\n",
    "# Random integer for more realistic timing for clicks, buttons and searches during scraping\n",
    "from random import randint\n",
    "\n",
    "# Multi Threading\n",
    "import threading\n",
    "\n",
    "# Threading:\n",
    "from concurrent.futures import ThreadPoolExecutor, wait\n",
    "import math\n",
    "import mysql.connector\n",
    "from datetime import date\n",
    "import json"
   ]
  },
  {
   "cell_type": "code",
   "execution_count": 2,
   "metadata": {},
   "outputs": [
    {
     "data": {
      "text/plain": [
       "'4.18.1'"
      ]
     },
     "execution_count": 2,
     "metadata": {},
     "output_type": "execute_result"
    }
   ],
   "source": [
    "import selenium\n",
    "\n",
    "# Check version I am running\n",
    "selenium.__version__"
   ]
  },
  {
   "cell_type": "code",
   "execution_count": 3,
   "metadata": {},
   "outputs": [],
   "source": [
    "import undetected_chromedriver as uc"
   ]
  },
  {
   "cell_type": "code",
   "execution_count": 4,
   "metadata": {},
   "outputs": [],
   "source": [
    "from selenium import webdriver\n",
    "\n",
    "# Starting/Stopping Driver: can specify ports or location but not remote access\n",
    "from selenium.webdriver.chrome.service import Service as ChromeService\n",
    "\n",
    "# Manages Binaries needed for WebDriver without installing anything directly\n",
    "from webdriver_manager.chrome import ChromeDriverManager"
   ]
  },
  {
   "cell_type": "code",
   "execution_count": 5,
   "metadata": {},
   "outputs": [],
   "source": [
    "# Allows searchs similar to beautiful soup: find_all\n",
    "from selenium.webdriver.common.by import By\n",
    "\n",
    "# Try to establish wait times for the page to load\n",
    "from selenium.webdriver.support.ui import WebDriverWait\n",
    "\n",
    "# Wait for specific condition based on defined task: web elements, boolean are examples\n",
    "from selenium.webdriver.support import expected_conditions as EC\n",
    "\n",
    "# Used for keyboard movements, up/down, left/right,delete, etc\n",
    "from selenium.webdriver.common.keys import Keys\n",
    "\n",
    "# Locate elements on page and throw error if they do not exist\n",
    "from selenium.common.exceptions import NoSuchElementException"
   ]
  },
  {
   "cell_type": "code",
   "execution_count": 6,
   "metadata": {},
   "outputs": [
    {
     "name": "stdout",
     "output_type": "stream",
     "text": [
      "{'upgrade-insecure-requests': '1', 'user-agent': 'Mozilla/5.0 (Windows NT 10.0; WOW64) AppleWebKit/537.36 (KHTML, like Gecko) Chrome/86.0.4240.111 Safari/537.36', 'accept': 'text/html,application/xhtml+xml,application/xml;q=0.9,*/*;q=0.8', 'sec-ch-ua': 'Google Chrome;v=\"86\", \"Chromium\";v=\"86\", \";Not A Brand\";v=\"99\"', 'sec-ch-ua-mobile': '?0', 'sec-ch-ua-platform': 'Windows', 'sec-fetch-site': 'none', 'sec-fetch-mod': '', 'sec-fetch-user': '?1', 'accept-encoding': 'gzip', 'accept-language': 'en-US,de;q=0.5'}\n"
     ]
    }
   ],
   "source": [
    "response = requests.get(\n",
    "  url='https://headers.scrapeops.io/v1/browser-headers',\n",
    "  params={\n",
    "      'api_key': 'cca4ced0-490d-41a0-b258-46f2ad7e74b3',\n",
    "      'num_results': '100'}\n",
    ")\n",
    "header_browser_list = response.json()\n",
    "print(header_browser_list['result'][0])"
   ]
  },
  {
   "cell_type": "code",
   "execution_count": 7,
   "metadata": {},
   "outputs": [
    {
     "name": "stdout",
     "output_type": "stream",
     "text": [
      "Mozilla/5.0 (Windows NT 10.0; Win64; x64) AppleWebKit/537.36 (KHTML, like Gecko) Chrome/90.0.4430.85 Safari/537.36 Edg/90.0.818.46\n"
     ]
    }
   ],
   "source": [
    "response = requests.get(\n",
    "  url='https://headers.scrapeops.io/v1/user-agents',\n",
    "  params={\n",
    "      'api_key': 'cca4ced0-490d-41a0-b258-46f2ad7e74b3',\n",
    "      'num_results': '100'}\n",
    ")\n",
    "user_agent_list = response.json()\n",
    "print(user_agent_list['result'][0])"
   ]
  },
  {
   "cell_type": "code",
   "execution_count": 8,
   "metadata": {},
   "outputs": [],
   "source": [
    "random_index_user_agent = randint(0, len(user_agent_list)-1)\n",
    "random_index_header_browser = randint(0, len(header_browser_list)-1)\n",
    "user_agent_random = user_agent_list['result'][random_index_user_agent]\n",
    "header_browser_random = header_browser_list['result'][random_index_header_browser]"
   ]
  },
  {
   "cell_type": "code",
   "execution_count": 9,
   "metadata": {},
   "outputs": [],
   "source": [
    "def create_option():\n",
    "    random_index_user_agent = randint(0, len(user_agent_list)-1)\n",
    "    random_index_header_browser = randint(0, len(header_browser_list)-1)\n",
    "    user_agent_random = user_agent_list['result'][random_index_user_agent]\n",
    "    header_browser_random = header_browser_list['result'][random_index_header_browser]\n",
    "    # Allows you to cusotmize: ingonito mode, maximize window size, headless browser, disable certain features, etc\n",
    "    option = uc.ChromeOptions()\n",
    "\n",
    "    # Going undercover:\n",
    "    option.add_argument(\"--incognito\")\n",
    "\n",
    "\n",
    "    # # Consider this if the application works and you know how it works for speed ups and rendering!\n",
    "\n",
    "    # option.add_argument('--headless=chrome')\n",
    "    user_agent = user_agent_random\n",
    "    option.add_argument(f\"user-agent={user_agent}\")\n",
    "\n",
    "    # Thêm header vào Options\n",
    "    headers = header_browser_random\n",
    "\n",
    "    for key, value in headers.items():\n",
    "        option.add_argument(f\"--header={key}:{value}\")\n",
    "    \n",
    "    return option"
   ]
  },
  {
   "cell_type": "code",
   "execution_count": 10,
   "metadata": {},
   "outputs": [
    {
     "name": "stdout",
     "output_type": "stream",
     "text": [
      "69\n"
     ]
    }
   ],
   "source": [
    "driver = uc.Chrome(service=ChromeService(ChromeDriverManager().install()),options=create_option())\n",
    "driver.implicitly_wait(10)  # Set the implicit wait time to 10 seconds\n",
    "driver.set_page_load_timeout(30)\n",
    "driver.get(\"https://www.topcv.vn/viec-lam-it\")\n",
    "\n",
    "job_count = driver.find_element(By.CSS_SELECTOR,'[class=\"job-header\"] h2 b').text.replace(\",\", \"\")\n",
    "if (int(job_count) % 50 == 0):\n",
    "    max_page  = int(job_count) / 50\n",
    "else:\n",
    "    max_page = math.floor(int(job_count) / 50) + 1\n",
    "print(max_page)\n",
    "driver.quit()"
   ]
  },
  {
   "cell_type": "code",
   "execution_count": 11,
   "metadata": {},
   "outputs": [],
   "source": [
    "job_urls = []"
   ]
  },
  {
   "cell_type": "code",
   "execution_count": 12,
   "metadata": {},
   "outputs": [
    {
     "name": "stdout",
     "output_type": "stream",
     "text": [
      "Đang xử lý:  https://www.topcv.vn/viec-lam-it?page=1\n",
      "[]\n",
      "******************************************************************\n",
      "Đang xử lý:  https://www.topcv.vn/viec-lam-it?page=2\n",
      "[]\n",
      "******************************************************************\n",
      "Đang xử lý:  https://www.topcv.vn/viec-lam-it?page=3\n",
      "[]\n",
      "******************************************************************\n",
      "Đang xử lý:  https://www.topcv.vn/viec-lam-it?page=4\n",
      "[]\n",
      "******************************************************************\n",
      "Đang xử lý:  https://www.topcv.vn/viec-lam-it?page=5\n",
      "[]\n",
      "******************************************************************\n",
      "Đang xử lý:  https://www.topcv.vn/viec-lam-it?page=6\n",
      "[]\n",
      "******************************************************************\n",
      "Đang xử lý:  https://www.topcv.vn/viec-lam-it?page=7\n",
      "[]\n",
      "******************************************************************\n",
      "Đang xử lý:  https://www.topcv.vn/viec-lam-it?page=8\n",
      "[]\n",
      "******************************************************************\n",
      "Đang xử lý:  https://www.topcv.vn/viec-lam-it?page=9\n",
      "[]\n",
      "******************************************************************\n",
      "Đang xử lý:  https://www.topcv.vn/viec-lam-it?page=10\n",
      "[]\n",
      "******************************************************************\n",
      "Đang xử lý:  https://www.topcv.vn/viec-lam-it?page=11\n",
      "[]\n",
      "******************************************************************\n",
      "Đang xử lý:  https://www.topcv.vn/viec-lam-it?page=12\n",
      "[]\n",
      "******************************************************************\n",
      "Đang xử lý:  https://www.topcv.vn/viec-lam-it?page=13\n",
      "[]\n",
      "******************************************************************\n",
      "Đang xử lý:  https://www.topcv.vn/viec-lam-it?page=14\n",
      "[]\n",
      "******************************************************************\n",
      "Đang xử lý:  https://www.topcv.vn/viec-lam-it?page=15\n",
      "[]\n",
      "******************************************************************\n",
      "Đang xử lý:  https://www.topcv.vn/viec-lam-it?page=16\n",
      "[]\n",
      "******************************************************************\n",
      "Đang xử lý:  https://www.topcv.vn/viec-lam-it?page=17\n",
      "[]\n",
      "******************************************************************\n",
      "Đang xử lý:  https://www.topcv.vn/viec-lam-it?page=18\n",
      "[]\n",
      "******************************************************************\n",
      "Đang xử lý:  https://www.topcv.vn/viec-lam-it?page=19\n",
      "[]\n",
      "******************************************************************\n",
      "Đang xử lý:  https://www.topcv.vn/viec-lam-it?page=20\n",
      "[]\n",
      "******************************************************************\n",
      "Đang xử lý:  https://www.topcv.vn/viec-lam-it?page=21\n",
      "[]\n",
      "******************************************************************\n",
      "Đang xử lý:  https://www.topcv.vn/viec-lam-it?page=22\n",
      "[]\n",
      "******************************************************************\n",
      "Đang xử lý:  https://www.topcv.vn/viec-lam-it?page=23\n",
      "[]\n",
      "******************************************************************\n",
      "Đang xử lý:  https://www.topcv.vn/viec-lam-it?page=24\n",
      "[]\n",
      "******************************************************************\n",
      "Đang xử lý:  https://www.topcv.vn/viec-lam-it?page=25\n",
      "[]\n",
      "******************************************************************\n",
      "Đang xử lý:  https://www.topcv.vn/viec-lam-it?page=26\n",
      "[]\n",
      "******************************************************************\n",
      "Đang xử lý:  https://www.topcv.vn/viec-lam-it?page=27\n",
      "[]\n",
      "******************************************************************\n",
      "Đang xử lý:  https://www.topcv.vn/viec-lam-it?page=28\n",
      "[]\n",
      "******************************************************************\n",
      "Đang xử lý:  https://www.topcv.vn/viec-lam-it?page=29\n",
      "[]\n",
      "******************************************************************\n",
      "Đang xử lý:  https://www.topcv.vn/viec-lam-it?page=30\n",
      "[]\n",
      "******************************************************************\n",
      "Đang xử lý:  https://www.topcv.vn/viec-lam-it?page=31\n",
      "[]\n",
      "******************************************************************\n",
      "Đang xử lý:  https://www.topcv.vn/viec-lam-it?page=32\n",
      "[]\n",
      "******************************************************************\n",
      "Đang xử lý:  https://www.topcv.vn/viec-lam-it?page=33\n",
      "[]\n",
      "******************************************************************\n",
      "Đang xử lý:  https://www.topcv.vn/viec-lam-it?page=34\n",
      "[]\n",
      "******************************************************************\n",
      "Đang xử lý:  https://www.topcv.vn/viec-lam-it?page=35\n",
      "[]\n",
      "******************************************************************\n",
      "Đang xử lý:  https://www.topcv.vn/viec-lam-it?page=36\n",
      "[]\n",
      "******************************************************************\n",
      "Đang xử lý:  https://www.topcv.vn/viec-lam-it?page=37\n",
      "[]\n",
      "******************************************************************\n",
      "Đang xử lý:  https://www.topcv.vn/viec-lam-it?page=38\n",
      "[]\n",
      "******************************************************************\n",
      "Đang xử lý:  https://www.topcv.vn/viec-lam-it?page=39\n",
      "[]\n",
      "******************************************************************\n",
      "Đang xử lý:  https://www.topcv.vn/viec-lam-it?page=40\n",
      "[]\n",
      "******************************************************************\n",
      "Đang xử lý:  https://www.topcv.vn/viec-lam-it?page=41\n",
      "[]\n",
      "******************************************************************\n",
      "Đang xử lý:  https://www.topcv.vn/viec-lam-it?page=42\n",
      "[]\n",
      "******************************************************************\n",
      "Đang xử lý:  https://www.topcv.vn/viec-lam-it?page=43\n",
      "[]\n",
      "******************************************************************\n",
      "Đang xử lý:  https://www.topcv.vn/viec-lam-it?page=44\n",
      "[]\n",
      "******************************************************************\n",
      "Đang xử lý:  https://www.topcv.vn/viec-lam-it?page=45\n",
      "[]\n",
      "******************************************************************\n",
      "Đang xử lý:  https://www.topcv.vn/viec-lam-it?page=46\n",
      "[]\n",
      "******************************************************************\n",
      "Đang xử lý:  https://www.topcv.vn/viec-lam-it?page=47\n",
      "[]\n",
      "******************************************************************\n",
      "Đang xử lý:  https://www.topcv.vn/viec-lam-it?page=48\n",
      "[]\n",
      "******************************************************************\n",
      "Đang xử lý:  https://www.topcv.vn/viec-lam-it?page=49\n",
      "[]\n",
      "******************************************************************\n",
      "Đang xử lý:  https://www.topcv.vn/viec-lam-it?page=50\n",
      "[]\n",
      "******************************************************************\n",
      "Đang xử lý:  https://www.topcv.vn/viec-lam-it?page=51\n",
      "[]\n",
      "******************************************************************\n",
      "Đang xử lý:  https://www.topcv.vn/viec-lam-it?page=52\n",
      "[]\n",
      "******************************************************************\n",
      "Đang xử lý:  https://www.topcv.vn/viec-lam-it?page=53\n",
      "[]\n",
      "******************************************************************\n",
      "Đang xử lý:  https://www.topcv.vn/viec-lam-it?page=54\n",
      "[]\n",
      "******************************************************************\n",
      "Đang xử lý:  https://www.topcv.vn/viec-lam-it?page=55\n",
      "[]\n",
      "******************************************************************\n",
      "Đang xử lý:  https://www.topcv.vn/viec-lam-it?page=56\n",
      "[]\n",
      "******************************************************************\n",
      "Đang xử lý:  https://www.topcv.vn/viec-lam-it?page=57\n",
      "[]\n",
      "******************************************************************\n",
      "Đang xử lý:  https://www.topcv.vn/viec-lam-it?page=58\n",
      "[]\n",
      "******************************************************************\n",
      "Đang xử lý:  https://www.topcv.vn/viec-lam-it?page=59\n",
      "[]\n",
      "******************************************************************\n",
      "Đang xử lý:  https://www.topcv.vn/viec-lam-it?page=60\n",
      "[]\n",
      "******************************************************************\n",
      "Đang xử lý:  https://www.topcv.vn/viec-lam-it?page=61\n",
      "[]\n",
      "******************************************************************\n",
      "Đang xử lý:  https://www.topcv.vn/viec-lam-it?page=62\n",
      "[]\n",
      "******************************************************************\n",
      "Đang xử lý:  https://www.topcv.vn/viec-lam-it?page=63\n",
      "[]\n",
      "******************************************************************\n",
      "Đang xử lý:  https://www.topcv.vn/viec-lam-it?page=64\n",
      "[]\n",
      "******************************************************************\n",
      "Đang xử lý:  https://www.topcv.vn/viec-lam-it?page=65\n",
      "[]\n",
      "******************************************************************\n",
      "Đang xử lý:  https://www.topcv.vn/viec-lam-it?page=66\n",
      "[]\n",
      "******************************************************************\n",
      "Đang xử lý:  https://www.topcv.vn/viec-lam-it?page=67\n",
      "[]\n",
      "******************************************************************\n",
      "Đang xử lý:  https://www.topcv.vn/viec-lam-it?page=68\n",
      "[]\n",
      "******************************************************************\n",
      "Đang xử lý:  https://www.topcv.vn/viec-lam-it?page=69\n",
      "[]\n",
      "******************************************************************\n"
     ]
    }
   ],
   "source": [
    "driver = uc.Chrome(service=ChromeService(ChromeDriverManager().install()),options=create_option())\n",
    "for page_number in range(1, int(max_page+1)):\n",
    "    link = f\"https://www.topcv.vn/viec-lam-it?page={page_number}\"\n",
    "    driver.get(link)\n",
    "    sleep(5)\n",
    "    print(\"Đang xử lý: \", link)\n",
    "    \n",
    "    try:\n",
    "        check_box = driver.find_element(By.XPATH, \"//input[@type='checkbox']\")\n",
    "        check_box.click()\n",
    "    except:\n",
    "        pass\n",
    "    \n",
    "    job_url_list = driver.find_elements(By.CSS_SELECTOR, '.job-item-2 h3[class=\"title\"] a')\n",
    "    print(job_url_list)\n",
    "    print(\"******************************************************************\")\n",
    "    for uu in job_url_list:\n",
    "        link = uu.get_attribute(\"href\")\n",
    "        job_urls.append(link)\n",
    "driver.quit()"
   ]
  },
  {
   "cell_type": "code",
   "execution_count": 13,
   "metadata": {},
   "outputs": [],
   "source": [
    "conn = mysql.connector.connect(\n",
    "    host='103.56.158.31',\n",
    "    port = 3306,\n",
    "    user= 'tuyendungUser',\n",
    "    password='sinhvienBK',\n",
    "    database= 'ThongTinTuyenDung'\n",
    ")\n",
    "cursor = conn.cursor()"
   ]
  },
  {
   "cell_type": "code",
   "execution_count": 14,
   "metadata": {},
   "outputs": [],
   "source": [
    "sql = 'INSERT IGNORE INTO Stg_Data_Raw (Web, Nganh, Link, TenCV, CongTy, TinhThanh, Luong, LoaiHinh, KinhNghiem, CapBac, HanNopCV, YeuCau, MoTa, PhucLoi, SoLuong) VALUES (%s, %s, %s, %s,%s,%s,%s, %s, %s, %s, %s, %s, %s, %s,%s)'"
   ]
  },
  {
   "cell_type": "code",
   "execution_count": 15,
   "metadata": {},
   "outputs": [],
   "source": [
    "sql_link = 'SELECT Link FROM Fact where Web =\\'TopCV\\''"
   ]
  },
  {
   "cell_type": "code",
   "execution_count": 16,
   "metadata": {},
   "outputs": [
    {
     "ename": "ProgrammingError",
     "evalue": "1054 (42S22): Unknown column 'Web' in 'where clause'",
     "output_type": "error",
     "traceback": [
      "\u001b[1;31m---------------------------------------------------------------------------\u001b[0m",
      "\u001b[1;31mProgrammingError\u001b[0m                          Traceback (most recent call last)",
      "\u001b[1;32mc:\\Users\\nguye\\OneDrive\\Desktop\\Scrapy_20231-master\\TopCV.ipynb Cell 16\u001b[0m line \u001b[0;36m1\n\u001b[1;32m----> <a href='vscode-notebook-cell:/c%3A/Users/nguye/OneDrive/Desktop/Scrapy_20231-master/TopCV.ipynb#X21sZmlsZQ%3D%3D?line=0'>1</a>\u001b[0m cursor\u001b[39m.\u001b[39;49mexecute(sql_link)\n\u001b[0;32m      <a href='vscode-notebook-cell:/c%3A/Users/nguye/OneDrive/Desktop/Scrapy_20231-master/TopCV.ipynb#X21sZmlsZQ%3D%3D?line=1'>2</a>\u001b[0m result \u001b[39m=\u001b[39m cursor\u001b[39m.\u001b[39mfetchall()\n\u001b[0;32m      <a href='vscode-notebook-cell:/c%3A/Users/nguye/OneDrive/Desktop/Scrapy_20231-master/TopCV.ipynb#X21sZmlsZQ%3D%3D?line=2'>3</a>\u001b[0m remove_url_list \u001b[39m=\u001b[39m [row[\u001b[39m0\u001b[39m] \u001b[39mfor\u001b[39;00m row \u001b[39min\u001b[39;00m result]\n",
      "File \u001b[1;32mc:\\Users\\nguye\\AppData\\Local\\Programs\\Python\\Python312\\Lib\\site-packages\\mysql\\connector\\cursor.py:551\u001b[0m, in \u001b[0;36mMySQLCursor.execute\u001b[1;34m(self, operation, params, multi)\u001b[0m\n\u001b[0;32m    549\u001b[0m \u001b[39melse\u001b[39;00m:\n\u001b[0;32m    550\u001b[0m     \u001b[39mtry\u001b[39;00m:\n\u001b[1;32m--> 551\u001b[0m         \u001b[39mself\u001b[39m\u001b[39m.\u001b[39m_handle_result(\u001b[39mself\u001b[39;49m\u001b[39m.\u001b[39;49m_connection\u001b[39m.\u001b[39;49mcmd_query(stmt))\n\u001b[0;32m    552\u001b[0m     \u001b[39mexcept\u001b[39;00m errors\u001b[39m.\u001b[39mInterfaceError:\n\u001b[0;32m    553\u001b[0m         \u001b[39mif\u001b[39;00m \u001b[39mself\u001b[39m\u001b[39m.\u001b[39m_connection\u001b[39m.\u001b[39m_have_next_result:  \u001b[39m# pylint: disable=W0212\u001b[39;00m\n",
      "File \u001b[1;32mc:\\Users\\nguye\\AppData\\Local\\Programs\\Python\\Python312\\Lib\\site-packages\\mysql\\connector\\connection.py:490\u001b[0m, in \u001b[0;36mMySQLConnection.cmd_query\u001b[1;34m(self, query, raw, buffered, raw_as_string)\u001b[0m\n\u001b[0;32m    488\u001b[0m \u001b[39mif\u001b[39;00m \u001b[39mnot\u001b[39;00m \u001b[39misinstance\u001b[39m(query, \u001b[39mbytes\u001b[39m):\n\u001b[0;32m    489\u001b[0m     query \u001b[39m=\u001b[39m query\u001b[39m.\u001b[39mencode(\u001b[39m'\u001b[39m\u001b[39mutf-8\u001b[39m\u001b[39m'\u001b[39m)\n\u001b[1;32m--> 490\u001b[0m result \u001b[39m=\u001b[39m \u001b[39mself\u001b[39;49m\u001b[39m.\u001b[39;49m_handle_result(\u001b[39mself\u001b[39;49m\u001b[39m.\u001b[39;49m_send_cmd(ServerCmd\u001b[39m.\u001b[39;49mQUERY, query))\n\u001b[0;32m    492\u001b[0m \u001b[39mif\u001b[39;00m \u001b[39mself\u001b[39m\u001b[39m.\u001b[39m_have_next_result:\n\u001b[0;32m    493\u001b[0m     \u001b[39mraise\u001b[39;00m errors\u001b[39m.\u001b[39mInterfaceError(\n\u001b[0;32m    494\u001b[0m         \u001b[39m'\u001b[39m\u001b[39mUse cmd_query_iter for statements with multiple queries.\u001b[39m\u001b[39m'\u001b[39m)\n",
      "File \u001b[1;32mc:\\Users\\nguye\\AppData\\Local\\Programs\\Python\\Python312\\Lib\\site-packages\\mysql\\connector\\connection.py:395\u001b[0m, in \u001b[0;36mMySQLConnection._handle_result\u001b[1;34m(self, packet)\u001b[0m\n\u001b[0;32m    393\u001b[0m     \u001b[39mreturn\u001b[39;00m \u001b[39mself\u001b[39m\u001b[39m.\u001b[39m_handle_eof(packet)\n\u001b[0;32m    394\u001b[0m \u001b[39melif\u001b[39;00m packet[\u001b[39m4\u001b[39m] \u001b[39m==\u001b[39m \u001b[39m255\u001b[39m:\n\u001b[1;32m--> 395\u001b[0m     \u001b[39mraise\u001b[39;00m errors\u001b[39m.\u001b[39mget_exception(packet)\n\u001b[0;32m    397\u001b[0m \u001b[39m# We have a text result set\u001b[39;00m\n\u001b[0;32m    398\u001b[0m column_count \u001b[39m=\u001b[39m \u001b[39mself\u001b[39m\u001b[39m.\u001b[39m_protocol\u001b[39m.\u001b[39mparse_column_count(packet)\n",
      "\u001b[1;31mProgrammingError\u001b[0m: 1054 (42S22): Unknown column 'Web' in 'where clause'"
     ]
    }
   ],
   "source": [
    "cursor.execute(sql_link)\n",
    "result = cursor.fetchall()\n",
    "remove_url_list = [row[0] for row in result]"
   ]
  },
  {
   "cell_type": "code",
   "execution_count": null,
   "metadata": {},
   "outputs": [
    {
     "name": "stdout",
     "output_type": "stream",
     "text": [
      "Số lượng url cào về:  0\n",
      "Số lượng url mới lấy được sau xử lý: 0\n"
     ]
    }
   ],
   "source": [
    "print(\"Số lượng url cào về: \", len(job_urls))\n",
    "for job_url in remove_url_list:\n",
    "    if job_url in job_urls:\n",
    "        job_urls.remove(job_url)\n",
    "print(\"Số lượng url mới lấy được sau xử lý:\", len(job_urls))"
   ]
  },
  {
   "cell_type": "code",
   "execution_count": null,
   "metadata": {},
   "outputs": [
    {
     "name": "stdout",
     "output_type": "stream",
     "text": [
      "Không có tin mới để thêm.\n"
     ]
    }
   ],
   "source": [
    "driver = uc.Chrome(service=ChromeService(ChromeDriverManager().install()), options=create_option())\n",
    "if len(job_urls) > 0:\n",
    "    for job_url in job_urls:\n",
    "        try:\n",
    "            if \"https://www.topcv.vn/brand/\" in job_url:\n",
    "                continue\n",
    "            link = job_url\n",
    "            print(\"Đang xử lí....\", link)\n",
    "            driver.get(link)\n",
    "            sleep(4)\n",
    "            \n",
    "            try:\n",
    "                check_box = driver.find_element(By.XPATH, \"//input[@type='checkbox']\")\n",
    "                check_box.click()\n",
    "            except:\n",
    "                pass\n",
    "            \n",
    "            Web = 'TopCV'\n",
    "            Nganh = 'IT'\n",
    "            Link = link\n",
    "            TenCV = driver.find_element(By.CSS_SELECTOR, '.job-detail__info--title').text\n",
    "            CongTy = driver.find_element(By.CSS_SELECTOR, '[class=\"company-name-label\"] a').text\n",
    "            SoLuong = \"1\"\n",
    "            YeuCau = \"\"\n",
    "            MoTa = \"\"\n",
    "            PhucLoi = \"\"\n",
    "            for i in range(len(driver.find_elements(By.CSS_SELECTOR, '[class=\"job-detail__info--section\"]'))):\n",
    "                if \"Mức lương\" in driver.find_elements(By.CSS_SELECTOR, '[class=\"job-detail__info--section\"]')[i].find_element(By.CSS_SELECTOR, '[class=\"job-detail__info--section-content-title\"]').text:\n",
    "                    Luong = driver.find_elements(By.CSS_SELECTOR, '[class=\"job-detail__info--section\"]')[i].find_element(By.CSS_SELECTOR, '[class=\"job-detail__info--section-content-value\"]').text\n",
    "                if \"Địa điểm\" in driver.find_elements(By.CSS_SELECTOR, '[class=\"job-detail__info--section\"]')[i].find_element(By.CSS_SELECTOR, '[class=\"job-detail__info--section-content-title\"]').text:\n",
    "                    TinhThanh = driver.find_elements(By.CSS_SELECTOR, '[class=\"job-detail__info--section\"]')[i].find_element(By.CSS_SELECTOR, '[class=\"job-detail__info--section-content-value\"]').text\n",
    "            try:\n",
    "                HanNopCV = driver.find_element(By.CSS_SELECTOR, '[class=\"job-detail__info--deadline\"]').text.split(\":\")[-1].strip()\n",
    "            except:\n",
    "                HanNopCV = date.today()\n",
    "            soup = BeautifulSoup(driver.page_source, 'html.parser')\n",
    "            List = soup.find_all('div', class_='job-description__item')\n",
    "            YeuCau = List[1].text\n",
    "            MoTa = List[0].text\n",
    "            PhucLoi = List[2].text\n",
    "            for i in range(len(soup.find_all('div', class_='box-general-group'))):\n",
    "                if \"Số lượng tuyển\" in soup.find_all('div', class_='box-general-group')[i].find('div', class_='box-general-group-info-title').text:\n",
    "                    SoLuong = soup.find_all('div', class_='box-general-group')[i].find('div', class_='box-general-group-info-value').text.split()[0]\n",
    "                if \"Hình thức làm việc\" in soup.find_all('div', class_='box-general-group')[i].find('div', class_='box-general-group-info-title').text:\n",
    "                    LoaiHinh = soup.find_all('div', class_='box-general-group')[i].find('div', class_='box-general-group-info-value').text\n",
    "                try:\n",
    "                    if \"Kinh nghiệm\" in soup.find_all('div', class_='box-general-group')[i].find('div', class_='box-general-group-info-title').text:\n",
    "                        KinhNghiem = soup.find_all('div', class_='box-general-group')[i].find('div', class_='box-general-group-info-value').text\n",
    "                except:\n",
    "                    KinhNghiem = \"Không có\"\n",
    "                if \"Cấp bậc\" in soup.find_all('div', class_='box-general-group')[i].find('div', class_='box-general-group-info-title').text:\n",
    "                    CapBac = soup.find_all('div', class_='box-general-group')[i].find('div', class_='box-general-group-info-value').text\n",
    "            cursor.execute(sql, (Web, Nganh, Link, TenCV, CongTy, TinhThanh, Luong, LoaiHinh, KinhNghiem, CapBac, HanNopCV, YeuCau, MoTa, PhucLoi, SoLuong))\n",
    "            conn.commit()\n",
    "            print(\"Thành công\")\n",
    "        except Exception as e:\n",
    "            print(\"Lỗi: \", e)\n",
    "            continue\n",
    "else:\n",
    "    print(\"Không có tin mới để thêm.\")\n",
    "driver.quit()\n",
    "cursor.close()\n",
    "conn.close()"
   ]
  },
  {
   "cell_type": "code",
   "execution_count": null,
   "metadata": {},
   "outputs": [
    {
     "name": "stdout",
     "output_type": "stream",
     "text": [
      "[]\n"
     ]
    }
   ],
   "source": [
    "print(job_urls)"
   ]
  }
 ],
 "metadata": {
  "kernelspec": {
   "display_name": "Python 3",
   "language": "python",
   "name": "python3"
  },
  "language_info": {
   "codemirror_mode": {
    "name": "ipython",
    "version": 3
   },
   "file_extension": ".py",
   "mimetype": "text/x-python",
   "name": "python",
   "nbconvert_exporter": "python",
   "pygments_lexer": "ipython3",
   "version": "3.12.0"
  }
 },
 "nbformat": 4,
 "nbformat_minor": 2
}
