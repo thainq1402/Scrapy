{
 "cells": [
  {
   "cell_type": "markdown",
   "metadata": {},
   "source": [
    "**KHÔNG THAO TÁC BẤT CỨ THỨ GÌ SAU KHI NHẤN \"Run All\"**"
   ]
  },
  {
   "cell_type": "code",
   "execution_count": 1,
   "metadata": {},
   "outputs": [],
   "source": [
    "import pyautogui as pag\n",
    "import os\n",
    "import time"
   ]
  },
  {
   "cell_type": "code",
   "execution_count": 2,
   "metadata": {},
   "outputs": [
    {
     "name": "stdout",
     "output_type": "stream",
     "text": [
      "c:/Users/nguye/OneDrive/Desktop/Scrapy_20231-master\n"
     ]
    }
   ],
   "source": [
    "current = os.getcwd().replace(\"\\\\\", \"/\") #Lấy vị trí hiện tại\n",
    "print(current)"
   ]
  },
  {
   "cell_type": "code",
   "execution_count": 3,
   "metadata": {},
   "outputs": [
    {
     "name": "stdout",
     "output_type": "stream",
     "text": [
      "418 109\n"
     ]
    }
   ],
   "source": [
    "x, y = pag.position()\n",
    "x_save, y_save = x, y\n",
    "print(x_save, y_save)"
   ]
  },
  {
   "cell_type": "code",
   "execution_count": 4,
   "metadata": {},
   "outputs": [],
   "source": [
    "#Career Viet\n",
    "pag.hotkey('shift', 'ctrl', '`')\n",
    "time.sleep(1)  # Thêm độ trễ để đảm bảo terminal đã mở trước khi nhập\n",
    "pag.typewrite(current+\"/venv/Scripts/Activate.ps1\")\n",
    "pag.press('enter', interval=0.1)                          #Kích hoạt môi trường ảo venv\n",
    "pag.typewrite('cd Career/Career')\n",
    "pag.press('enter', interval=0.1)\n",
    "pag.typewrite('scrapy crawl career')                      #Cào Careerbuilder\n",
    "pag.press('enter', interval=0.1)"
   ]
  },
  {
   "cell_type": "code",
   "execution_count": 5,
   "metadata": {},
   "outputs": [],
   "source": [
    "pag.hotkey('shift', 'ctrl', '`')\n",
    "time.sleep(1)  # Thêm độ trễ để đảm bảo terminal đã mở trước khi nhập\n",
    "pag.typewrite(current+\"/venv/Scripts/Activate.ps1\")\n",
    "pag.press('enter', interval=0.1)                          #Kích hoạt môi trường ảo venv\n",
    "pag.typewrite('cd CareerLink/CareerLink')\n",
    "pag.press('enter', interval=0.1)\n",
    "pag.typewrite('scrapy crawl careerlink')                      #Cào CareerLink\n",
    "pag.press('enter', interval=0.1)"
   ]
  },
  {
   "cell_type": "code",
   "execution_count": 6,
   "metadata": {},
   "outputs": [],
   "source": [
    "pag.hotkey('shift', 'ctrl', '`')\n",
    "time.sleep(1)  # Thêm độ trễ để đảm bảo terminal đã mở trước khi nhập\n",
    "pag.typewrite(current+\"/venv/Scripts/Activate.ps1\")\n",
    "pag.press('enter', interval=0.1)                          #Kích hoạt môi trường ảo venv\n",
    "pag.typewrite('cd DevWork/DevWork')\n",
    "pag.press('enter', interval=0.1)\n",
    "pag.typewrite('scrapy crawl devwork')                      #Cào DevWork\n",
    "pag.press('enter', interval=0.1)"
   ]
  },
  {
   "cell_type": "code",
   "execution_count": 7,
   "metadata": {},
   "outputs": [],
   "source": [
    "pag.hotkey('shift', 'ctrl', '`')\n",
    "time.sleep(1)  # Thêm độ trễ để đảm bảo terminal đã mở trước khi nhập\n",
    "pag.typewrite(current+\"/venv/Scripts/Activate.ps1\")\n",
    "pag.press('enter', interval=0.1)                          #Kích hoạt môi trường ảo venv\n",
    "pag.typewrite('cd ITNaVi/ITNaVi')\n",
    "pag.press('enter', interval=0.1)\n",
    "pag.typewrite('scrapy crawl itnavi')                      #Cào ITNaVi\n",
    "pag.press('enter', interval=0.1)"
   ]
  },
  {
   "cell_type": "code",
   "execution_count": 8,
   "metadata": {},
   "outputs": [],
   "source": [
    "pag.hotkey('shift', 'ctrl', '`')\n",
    "time.sleep(1)  # Thêm độ trễ để đảm bảo terminal đã mở trước khi nhập\n",
    "pag.typewrite(current+\"/venv/Scripts/Activate.ps1\")\n",
    "pag.press('enter', interval=0.1)                          #Kích hoạt môi trường ảo venv\n",
    "pag.typewrite('cd TopDev/TopDev')\n",
    "pag.press('enter', interval=0.1)\n",
    "pag.typewrite('scrapy crawl scrape')                      #Cào TopDev\n",
    "pag.press('enter', interval=0.1)"
   ]
  },
  {
   "cell_type": "code",
   "execution_count": 9,
   "metadata": {},
   "outputs": [],
   "source": [
    "pag.hotkey('shift', 'ctrl', '`')\n",
    "time.sleep(1)  # Thêm độ trễ để đảm bảo terminal đã mở trước khi nhập\n",
    "pag.typewrite(current+\"/venv/Scripts/Activate.ps1\")\n",
    "pag.press('enter', interval=0.1)                          #Kích hoạt môi trường ảo venv\n",
    "pag.typewrite('cd VN_Work/VN_Work')\n",
    "pag.press('enter', interval=0.1)\n",
    "pag.typewrite('scrapy crawl vietnamwork')                      #Cào VietNamWork\n",
    "pag.press('enter', interval=0.1)"
   ]
  },
  {
   "cell_type": "code",
   "execution_count": 10,
   "metadata": {},
   "outputs": [],
   "source": [
    "pag.hotkey('shift', 'ctrl', '`')\n",
    "time.sleep(1)  # Thêm độ trễ để đảm bảo terminal đã mở trước khi nhập\n",
    "pag.typewrite(current+\"/venv/Scripts/Activate.ps1\")\n",
    "pag.press('enter', interval=0.1)                          #Kích hoạt môi trường ảo venv\n",
    "pag.typewrite('cd ViecLam24/ViecLam24')\n",
    "pag.press('enter', interval=0.1)\n",
    "pag.typewrite('scrapy crawl vieclam24')                      #Cào ViecLam24h\n",
    "pag.press('enter', interval=0.1)\n"
   ]
  },
  {
   "cell_type": "code",
   "execution_count": 11,
   "metadata": {},
   "outputs": [],
   "source": [
    "# pag.hotkey('shift', 'ctrl', '`')\n",
    "# time.sleep(1)  # Thêm độ trễ để đảm bảo terminal đã mở trước khi nhập\n",
    "# pag.typewrite(current+\"/venv/Scripts/Activate.ps1\")\n",
    "# pag.press('enter', interval=0.1)                          #Kích hoạt môi trường ảo venv\n",
    "# pag.typewrite('cd StudentJob/StudentJob')\n",
    "# pag.press('enter', interval=0.1)\n",
    "# pag.typewrite('scrapy crawl student')                      #Cào StudentJob\n",
    "# pag.press('enter', interval=0.1)"
   ]
  },
  {
   "cell_type": "code",
   "execution_count": 12,
   "metadata": {},
   "outputs": [],
   "source": [
    "pag.hotkey('shift', 'ctrl', '`')\n",
    "time.sleep(1)  # Thêm độ trễ để đảm bảo terminal đã mở trước khi nhập\n",
    "pag.typewrite(current+\"/venv/Scripts/Activate.ps1\")\n",
    "pag.press('enter', interval=0.1)                          #Kích hoạt môi trường ảo venv\n",
    "pag.typewrite('cd joboko/joboko')\n",
    "pag.press('enter', interval=0.1)\n",
    "pag.typewrite('scrapy crawl jobokoweb')                      #Cào Joboko\n",
    "pag.press('enter', interval=0.1)"
   ]
  },
  {
   "cell_type": "code",
   "execution_count": 13,
   "metadata": {},
   "outputs": [],
   "source": [
    "pag.hotkey('shift', 'ctrl', '`')\n",
    "time.sleep(1)  # Thêm độ trễ để đảm bảo terminal đã mở trước khi nhập\n",
    "pag.typewrite(current+\"/venv/Scripts/Activate.ps1\")\n",
    "pag.press('enter', interval=0.1)                          #Kích hoạt môi trường ảo venv\n",
    "pag.typewrite('cd techwork/techwork')\n",
    "pag.press('enter', interval=0.1)\n",
    "pag.typewrite('scrapy crawl techworkweb')                      #Cào Techwork\n",
    "pag.press('enter', interval=0.1)"
   ]
  },
  {
   "cell_type": "code",
   "execution_count": 14,
   "metadata": {},
   "outputs": [],
   "source": [
    "pag.hotkey('shift', 'ctrl', '`')\n",
    "time.sleep(1)  # Thêm độ trễ để đảm bảo terminal đã mở trước khi nhập\n",
    "pag.typewrite(current+\"/venv/Scripts/Activate.ps1\")\n",
    "pag.press('enter', interval=0.1)                          #Kích hoạt môi trường ảo venv\n",
    "pag.typewrite('cd job3s/job3s')\n",
    "pag.press('enter', interval=0.1)\n",
    "pag.typewrite('scrapy crawl job3sweb')                      #Cào job3s\n",
    "pag.press('enter', interval=0.1)"
   ]
  },
  {
   "cell_type": "code",
   "execution_count": 15,
   "metadata": {},
   "outputs": [],
   "source": [
    "pag.hotkey('shift', 'ctrl', '`')\n",
    "time.sleep(1)  # Thêm độ trễ để đảm bảo terminal đã mở trước khi nhập\n",
    "pag.typewrite(current+\"/venv/Scripts/Activate.ps1\")\n",
    "pag.press('enter', interval=0.1)                          #Kích hoạt môi trường ảo venv\n",
    "pag.typewrite('cd Jobsgo/Jobsgo')\n",
    "pag.press('enter', interval=0.1)\n",
    "pag.typewrite('scrapy crawl jobsgo')                      #Cào jobsgo\n",
    "pag.press('enter', interval=0.1)"
   ]
  },
  {
   "cell_type": "code",
   "execution_count": 16,
   "metadata": {},
   "outputs": [
    {
     "ename": "KeyboardInterrupt",
     "evalue": "",
     "output_type": "error",
     "traceback": [
      "\u001b[1;31m---------------------------------------------------------------------------\u001b[0m",
      "\u001b[1;31mKeyboardInterrupt\u001b[0m                         Traceback (most recent call last)",
      "\u001b[1;32mc:\\Users\\nguye\\OneDrive\\Desktop\\Scrapy_20231-master\\process.ipynb Cell 17\u001b[0m line \u001b[0;36m7\n\u001b[0;32m      <a href='vscode-notebook-cell:/c%3A/Users/nguye/OneDrive/Desktop/Scrapy_20231-master/process.ipynb#X22sZmlsZQ%3D%3D?line=4'>5</a>\u001b[0m pag\u001b[39m.\u001b[39mtypewrite(\u001b[39m'\u001b[39m\u001b[39mcode ITViec.ipynb\u001b[39m\u001b[39m'\u001b[39m)\n\u001b[0;32m      <a href='vscode-notebook-cell:/c%3A/Users/nguye/OneDrive/Desktop/Scrapy_20231-master/process.ipynb#X22sZmlsZQ%3D%3D?line=5'>6</a>\u001b[0m pag\u001b[39m.\u001b[39mpress(\u001b[39m'\u001b[39m\u001b[39menter\u001b[39m\u001b[39m'\u001b[39m, interval\u001b[39m=\u001b[39m\u001b[39m0.1\u001b[39m)\n\u001b[1;32m----> <a href='vscode-notebook-cell:/c%3A/Users/nguye/OneDrive/Desktop/Scrapy_20231-master/process.ipynb#X22sZmlsZQ%3D%3D?line=6'>7</a>\u001b[0m time\u001b[39m.\u001b[39;49msleep(\u001b[39m10\u001b[39;49m)              \u001b[39m#Chờ 10s để load jupyter\u001b[39;00m\n\u001b[0;32m      <a href='vscode-notebook-cell:/c%3A/Users/nguye/OneDrive/Desktop/Scrapy_20231-master/process.ipynb#X22sZmlsZQ%3D%3D?line=7'>8</a>\u001b[0m pag\u001b[39m.\u001b[39mclick(x_save, y_save)\n\u001b[0;32m      <a href='vscode-notebook-cell:/c%3A/Users/nguye/OneDrive/Desktop/Scrapy_20231-master/process.ipynb#X22sZmlsZQ%3D%3D?line=8'>9</a>\u001b[0m pag\u001b[39m.\u001b[39mpress(\u001b[39m'\u001b[39m\u001b[39menter\u001b[39m\u001b[39m'\u001b[39m, interval\u001b[39m=\u001b[39m\u001b[39m0.1\u001b[39m)\n",
      "\u001b[1;31mKeyboardInterrupt\u001b[0m: "
     ]
    }
   ],
   "source": [
    "pag.hotkey('shift', 'ctrl', '`')\n",
    "time.sleep(1)  # Thêm độ trễ để đảm bảo terminal đã mở trước khi nhập\n",
    "pag.typewrite(current+\"/venv/Scripts/Activate.ps1\")\n",
    "pag.press('enter', interval=0.1)                          #Kích hoạt môi trường ảo venv\n",
    "pag.typewrite('code ITViec.ipynb')\n",
    "pag.press('enter', interval=0.1)\n",
    "time.sleep(10)              #Chờ 10s để load jupyter\n",
    "pag.click(x_save, y_save)\n",
    "pag.press('enter', interval=0.1)"
   ]
  },
  {
   "cell_type": "code",
   "execution_count": null,
   "metadata": {},
   "outputs": [],
   "source": [
    "pag.hotkey('shift', 'ctrl', '`')\n",
    "time.sleep(1)  # Thêm độ trễ để đảm bảo terminal đã mở trước khi nhập\n",
    "pag.typewrite(current+\"/venv/Scripts/Activate.ps1\")\n",
    "pag.press('enter', interval=0.1)                          #Kích hoạt môi trường ảo venv\n",
    "pag.typewrite('code job123.ipynb')\n",
    "pag.press('enter', interval=0.1)\n",
    "time.sleep(10)              #Chờ 10s để load jupyter\n",
    "pag.click(x_save, y_save)\n",
    "pag.press('enter', interval=0.1)"
   ]
  },
  {
   "cell_type": "code",
   "execution_count": null,
   "metadata": {},
   "outputs": [],
   "source": []
  },
  {
   "cell_type": "code",
   "execution_count": null,
   "metadata": {},
   "outputs": [],
   "source": [
    "pag.hotkey('shift', 'ctrl', '`')\n",
    "time.sleep(1)  # Thêm độ trễ để đảm bảo terminal đã mở trước khi nhập\n",
    "pag.typewrite(current+\"/venv/Scripts/Activate.ps1\")\n",
    "pag.press('enter', interval=0.1)                          #Kích hoạt môi trường ảo venv\n",
    "pag.typewrite('code TopCV.ipynb')\n",
    "pag.press('enter', interval=0.1)\n",
    "time.sleep(10)              #Chờ 10s để load jupyter\n",
    "pag.click(x_save, y_save)\n",
    "pag.press('enter', interval=0.1)"
   ]
  },
  {
   "cell_type": "code",
   "execution_count": null,
   "metadata": {},
   "outputs": [],
   "source": [
    "pag.hotkey('shift', 'ctrl', '`')\n",
    "time.sleep(1)  # Thêm độ trễ để đảm bảo terminal đã mở trước khi nhập\n",
    "pag.typewrite(current+\"/venv/Scripts/Activate.ps1\")\n",
    "pag.press('enter', interval=0.1)                          #Kích hoạt môi trường ảo venv\n",
    "pag.typewrite('code TopCV.ipynb')\n",
    "pag.press('enter', interval=0.1)\n",
    "time.sleep(10)              #Chờ 10s để load jupyter\n",
    "pag.click(x_save, y_save)\n",
    "pag.press('enter', interval=0.1)"
   ]
  },
  {
   "cell_type": "code",
   "execution_count": null,
   "metadata": {},
   "outputs": [],
   "source": [
    "pag.hotkey('shift', 'ctrl', '`')\n",
    "time.sleep(1)  # Thêm độ trễ để đảm bảo terminal đã mở trước khi nhập\n",
    "pag.typewrite(current+\"/venv/Scripts/Activate.ps1\")\n",
    "pag.press('enter', interval=0.1)                          #Kích hoạt môi trường ảo venv\n",
    "pag.typewrite('code TopCV.ipynb')\n",
    "pag.press('enter', interval=0.1)\n",
    "time.sleep(10)              #Chờ 10s để load jupyter\n",
    "pag.click(x_save, y_save)\n",
    "pag.press('enter', interval=0.1)"
   ]
  },
  {
   "cell_type": "markdown",
   "metadata": {},
   "source": []
  },
  {
   "cell_type": "code",
   "execution_count": null,
   "metadata": {},
   "outputs": [],
   "source": [
    "pag.hotkey('shift', 'ctrl', '`')\n",
    "time.sleep(1)  # Thêm độ trễ để đảm bảo terminal đã mở trước khi nhập\n",
    "pag.typewrite(current+\"/venv/Scripts/Activate.ps1\")\n",
    "pag.press('enter', interval=0.1)                          #Kích hoạt môi trường ảo venv\n",
    "pag.typewrite('code TopCV.ipynb')\n",
    "pag.press('enter', interval=0.1)\n",
    "time.sleep(10)              #Chờ 10s để load jupyter\n",
    "pag.click(x_save, y_save)\n",
    "pag.press('enter', interval=0.1)"
   ]
  },
  {
   "cell_type": "code",
   "execution_count": null,
   "metadata": {},
   "outputs": [],
   "source": [
    "pag.hotkey('shift', 'ctrl', '`')\n",
    "time.sleep(1)  # Thêm độ trễ để đảm bảo terminal đã mở trước khi nhập\n",
    "pag.typewrite(current+\"/venv/Scripts/Activate.ps1\")\n",
    "pag.press('enter', interval=0.1)                          #Kích hoạt môi trường ảo venv\n",
    "pag.typewrite('code TopCV.ipynb')\n",
    "pag.press('enter', interval=0.1)\n",
    "time.sleep(10)              #Chờ 10s để load jupyter\n",
    "pag.click(x_save, y_save)\n",
    "pag.press('enter', interval=0.1)"
   ]
  },
  {
   "cell_type": "code",
   "execution_count": null,
   "metadata": {},
   "outputs": [],
   "source": [
    "pag.hotkey('shift', 'ctrl', '`')\n",
    "time.sleep(1)  # Thêm độ trễ để đảm bảo terminal đã mở trước khi nhập\n",
    "pag.typewrite(\"Da chay xong chuong trinh, ban co the thao tac binh thuong, khong tat VSCode\")"
   ]
  }
 ],
 "metadata": {
  "kernelspec": {
   "display_name": "Python 3",
   "language": "python",
   "name": "python3"
  },
  "language_info": {
   "codemirror_mode": {
    "name": "ipython",
    "version": 3
   },
   "file_extension": ".py",
   "mimetype": "text/x-python",
   "name": "python",
   "nbconvert_exporter": "python",
   "pygments_lexer": "ipython3",
   "version": "3.12.0"
  }
 },
 "nbformat": 4,
 "nbformat_minor": 2
}
