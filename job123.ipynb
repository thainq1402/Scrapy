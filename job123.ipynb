{
 "cells": [
  {
   "cell_type": "code",
   "execution_count": 1,
   "metadata": {},
   "outputs": [],
   "source": [
    "from bs4 import BeautifulSoup\n",
    "import requests\n",
    "# Parsing and creating xml data\n",
    "from lxml import etree as et\n",
    "\n",
    "# Store data as a csv file written out\n",
    "from csv import writer\n",
    "\n",
    "# In general to use with timing our function calls to Indeed\n",
    "import time\n",
    "\n",
    "# Assist with creating incremental timing for our scraping to seem more human\n",
    "from time import sleep\n",
    "\n",
    "# Dataframe stuff\n",
    "import pandas as pd\n",
    "\n",
    "# Random integer for more realistic timing for clicks, buttons and searches during scraping\n",
    "from random import randint\n",
    "\n",
    "# Multi Threading\n",
    "import threading\n",
    "\n",
    "# Threading:\n",
    "from concurrent.futures import ThreadPoolExecutor, wait\n",
    "import math\n",
    "import mysql.connector"
   ]
  },
  {
   "cell_type": "code",
   "execution_count": 2,
   "metadata": {},
   "outputs": [
    {
     "data": {
      "text/plain": [
       "'4.18.1'"
      ]
     },
     "execution_count": 2,
     "metadata": {},
     "output_type": "execute_result"
    }
   ],
   "source": [
    "import selenium\n",
    "\n",
    "# Check version I am running\n",
    "selenium.__version__"
   ]
  },
  {
   "cell_type": "code",
   "execution_count": 3,
   "metadata": {},
   "outputs": [],
   "source": [
    "import undetected_chromedriver as uc"
   ]
  },
  {
   "cell_type": "code",
   "execution_count": 4,
   "metadata": {},
   "outputs": [],
   "source": [
    "from selenium import webdriver\n",
    "\n",
    "# Starting/Stopping Driver: can specify ports or location but not remote access\n",
    "from selenium.webdriver.chrome.service import Service as ChromeService\n",
    "\n",
    "# Manages Binaries needed for WebDriver without installing anything directly\n",
    "from webdriver_manager.chrome import ChromeDriverManager"
   ]
  },
  {
   "cell_type": "code",
   "execution_count": null,
   "metadata": {},
   "outputs": [],
   "source": [
    "\n"
   ]
  },
  {
   "cell_type": "code",
   "execution_count": 5,
   "metadata": {},
   "outputs": [],
   "source": [
    "# Allows searchs similar to beautiful soup: find_all\n",
    "from selenium.webdriver.common.by import By\n",
    "\n",
    "# Try to establish wait times for the page to load\n",
    "from selenium.webdriver.support.ui import WebDriverWait\n",
    "\n",
    "# Wait for specific condition based on defined task: web elements, boolean are examples\n",
    "from selenium.webdriver.support import expected_conditions as EC\n",
    "\n",
    "# Used for keyboard movements, up/down, left/right,delete, etc\n",
    "from selenium.webdriver.common.keys import Keys\n",
    "\n",
    "# Locate elements on page and throw error if they do not exist\n",
    "from selenium.common.exceptions import NoSuchElementException"
   ]
  },
  {
   "cell_type": "code",
   "execution_count": 6,
   "metadata": {},
   "outputs": [
    {
     "name": "stdout",
     "output_type": "stream",
     "text": [
      "{'upgrade-insecure-requests': '1', 'user-agent': 'Mozilla/5.0 (Windows NT 6.3; Win64; x64) AppleWebKit/537.36 (KHTML, like Gecko) Chrome/90.0.4430.93 Safari/537.36', 'accept': 'text/html,application/xhtml+xml,application/xml;q=0.9,image/webp,image/apng,*/*;q=0.8', 'sec-ch-ua': 'Google Chrome;v=\"90\", \"Chromium\";v=\"90\", \";Not A Brand\";v=\"99\"', 'sec-ch-ua-mobile': '?0', 'sec-ch-ua-platform': 'Windows', 'sec-fetch-site': 'none', 'sec-fetch-mod': '', 'sec-fetch-user': '?1', 'accept-encoding': 'gzip', 'accept-language': 'en-US'}\n"
     ]
    }
   ],
   "source": [
    "response = requests.get(\n",
    "  url='https://headers.scrapeops.io/v1/browser-headers',\n",
    "  params={\n",
    "      'api_key': 'cca4ced0-490d-41a0-b258-46f2ad7e74b3',\n",
    "      'num_results': '100'}\n",
    ")\n",
    "header_browser_list = response.json()\n",
    "print(header_browser_list['result'][0])"
   ]
  },
  {
   "cell_type": "code",
   "execution_count": 7,
   "metadata": {},
   "outputs": [
    {
     "name": "stdout",
     "output_type": "stream",
     "text": [
      "Mozilla/5.0 (Windows NT 6.1; Win64; x64) AppleWebKit/537.36 (KHTML, like Gecko) Chrome/89.0.4389.114 Safari/537.36\n"
     ]
    }
   ],
   "source": [
    "response = requests.get(\n",
    "  url='https://headers.scrapeops.io/v1/user-agents',\n",
    "  params={\n",
    "      'api_key': 'cca4ced0-490d-41a0-b258-46f2ad7e74b3',\n",
    "      'num_results': '100'}\n",
    ")\n",
    "user_agent_list = response.json()\n",
    "print(user_agent_list['result'][0])"
   ]
  },
  {
   "cell_type": "code",
   "execution_count": 8,
   "metadata": {},
   "outputs": [],
   "source": [
    "random_index_user_agent = randint(0, len(user_agent_list)-1)\n",
    "random_index_header_browser = randint(0, len(header_browser_list)-1)\n",
    "user_agent_random = user_agent_list['result'][random_index_user_agent]\n",
    "header_browser_random = header_browser_list['result'][random_index_header_browser]"
   ]
  },
  {
   "cell_type": "code",
   "execution_count": 9,
   "metadata": {},
   "outputs": [],
   "source": [
    "def create_option():\n",
    "    random_index_user_agent = randint(0, len(user_agent_list)-1)\n",
    "    random_index_header_browser = randint(0, len(header_browser_list)-1)\n",
    "    user_agent_random = user_agent_list['result'][random_index_user_agent]\n",
    "    header_browser_random = header_browser_list['result'][random_index_header_browser]\n",
    "\n",
    "    # Allows you to cusotmize: ingonito mode, maximize window size, headless browser, disable certain features, etc\n",
    "    option = webdriver.ChromeOptions()\n",
    "\n",
    "    # Going undercover:\n",
    "    option.add_argument(\"--incognito\")\n",
    "\n",
    "\n",
    "    # # Consider this if the application works and you know how it works for speed ups and rendering!\n",
    "\n",
    "    option.add_argument('--headless=chrome')\n",
    "    user_agent = user_agent_random\n",
    "    option.add_argument(f\"user-agent={user_agent}\")\n",
    "\n",
    "    # Thêm header vào Options\n",
    "    headers = header_browser_random\n",
    "\n",
    "    for key, value in headers.items():\n",
    "        option.add_argument(f\"--header={key}:{value}\")\n",
    "        \n",
    "    return option"
   ]
  },
  {
   "cell_type": "code",
   "execution_count": 10,
   "metadata": {},
   "outputs": [],
   "source": [
    "conn = mysql.connector.connect(\n",
    "    host='103.56.158.31',\n",
    "    port = 3306,\n",
    "    user= 'tuyendungUser',\n",
    "    password='sinhvienBK',\n",
    "    database= 'ThongTinTuyenDung'\n",
    ")\n",
    "cursor = conn.cursor()"
   ]
  },
  {
   "cell_type": "code",
   "execution_count": 11,
   "metadata": {},
   "outputs": [],
   "source": [
    "\n",
    "sql = 'INSERT IGNORE INTO Stg_Data_Raw (Web, Nganh, Link, TenCV, CongTy, TinhThanh, Luong, LoaiHinh, KinhNghiem, CapBac, HanNopCV, YeuCau, MoTa, PhucLoi, SoLuong) VALUES (%s, %s, %s, %s,%s,%s,%s, %s, %s, %s, %s, %s, %s, %s,%s)'"
   ]
  },
  {
   "cell_type": "code",
   "execution_count": 12,
   "metadata": {},
   "outputs": [],
   "source": [
    "sql_link = 'SELECT Link FROM Fact where Web =\\'123jobs\\''"
   ]
  },
  {
   "cell_type": "code",
   "execution_count": 13,
   "metadata": {},
   "outputs": [
    {
     "ename": "ProgrammingError",
     "evalue": "1054 (42S22): Unknown column 'Web' in 'where clause'",
     "output_type": "error",
     "traceback": [
      "\u001b[1;31m---------------------------------------------------------------------------\u001b[0m",
      "\u001b[1;31mProgrammingError\u001b[0m                          Traceback (most recent call last)",
      "\u001b[1;32mc:\\Users\\nguye\\OneDrive\\Desktop\\Scrapy_20231-master\\job123.ipynb Cell 14\u001b[0m line \u001b[0;36m1\n\u001b[1;32m----> <a href='vscode-notebook-cell:/c%3A/Users/nguye/OneDrive/Desktop/Scrapy_20231-master/job123.ipynb#X16sZmlsZQ%3D%3D?line=0'>1</a>\u001b[0m cursor\u001b[39m.\u001b[39;49mexecute(sql_link)\n\u001b[0;32m      <a href='vscode-notebook-cell:/c%3A/Users/nguye/OneDrive/Desktop/Scrapy_20231-master/job123.ipynb#X16sZmlsZQ%3D%3D?line=1'>2</a>\u001b[0m result \u001b[39m=\u001b[39m cursor\u001b[39m.\u001b[39mfetchall()\n\u001b[0;32m      <a href='vscode-notebook-cell:/c%3A/Users/nguye/OneDrive/Desktop/Scrapy_20231-master/job123.ipynb#X16sZmlsZQ%3D%3D?line=2'>3</a>\u001b[0m remove_url_list \u001b[39m=\u001b[39m [row[\u001b[39m0\u001b[39m] \u001b[39mfor\u001b[39;00m row \u001b[39min\u001b[39;00m result]\n",
      "File \u001b[1;32mc:\\Users\\nguye\\AppData\\Local\\Programs\\Python\\Python312\\Lib\\site-packages\\mysql\\connector\\cursor.py:551\u001b[0m, in \u001b[0;36mMySQLCursor.execute\u001b[1;34m(self, operation, params, multi)\u001b[0m\n\u001b[0;32m    549\u001b[0m \u001b[39melse\u001b[39;00m:\n\u001b[0;32m    550\u001b[0m     \u001b[39mtry\u001b[39;00m:\n\u001b[1;32m--> 551\u001b[0m         \u001b[39mself\u001b[39m\u001b[39m.\u001b[39m_handle_result(\u001b[39mself\u001b[39;49m\u001b[39m.\u001b[39;49m_connection\u001b[39m.\u001b[39;49mcmd_query(stmt))\n\u001b[0;32m    552\u001b[0m     \u001b[39mexcept\u001b[39;00m errors\u001b[39m.\u001b[39mInterfaceError:\n\u001b[0;32m    553\u001b[0m         \u001b[39mif\u001b[39;00m \u001b[39mself\u001b[39m\u001b[39m.\u001b[39m_connection\u001b[39m.\u001b[39m_have_next_result:  \u001b[39m# pylint: disable=W0212\u001b[39;00m\n",
      "File \u001b[1;32mc:\\Users\\nguye\\AppData\\Local\\Programs\\Python\\Python312\\Lib\\site-packages\\mysql\\connector\\connection.py:490\u001b[0m, in \u001b[0;36mMySQLConnection.cmd_query\u001b[1;34m(self, query, raw, buffered, raw_as_string)\u001b[0m\n\u001b[0;32m    488\u001b[0m \u001b[39mif\u001b[39;00m \u001b[39mnot\u001b[39;00m \u001b[39misinstance\u001b[39m(query, \u001b[39mbytes\u001b[39m):\n\u001b[0;32m    489\u001b[0m     query \u001b[39m=\u001b[39m query\u001b[39m.\u001b[39mencode(\u001b[39m'\u001b[39m\u001b[39mutf-8\u001b[39m\u001b[39m'\u001b[39m)\n\u001b[1;32m--> 490\u001b[0m result \u001b[39m=\u001b[39m \u001b[39mself\u001b[39;49m\u001b[39m.\u001b[39;49m_handle_result(\u001b[39mself\u001b[39;49m\u001b[39m.\u001b[39;49m_send_cmd(ServerCmd\u001b[39m.\u001b[39;49mQUERY, query))\n\u001b[0;32m    492\u001b[0m \u001b[39mif\u001b[39;00m \u001b[39mself\u001b[39m\u001b[39m.\u001b[39m_have_next_result:\n\u001b[0;32m    493\u001b[0m     \u001b[39mraise\u001b[39;00m errors\u001b[39m.\u001b[39mInterfaceError(\n\u001b[0;32m    494\u001b[0m         \u001b[39m'\u001b[39m\u001b[39mUse cmd_query_iter for statements with multiple queries.\u001b[39m\u001b[39m'\u001b[39m)\n",
      "File \u001b[1;32mc:\\Users\\nguye\\AppData\\Local\\Programs\\Python\\Python312\\Lib\\site-packages\\mysql\\connector\\connection.py:395\u001b[0m, in \u001b[0;36mMySQLConnection._handle_result\u001b[1;34m(self, packet)\u001b[0m\n\u001b[0;32m    393\u001b[0m     \u001b[39mreturn\u001b[39;00m \u001b[39mself\u001b[39m\u001b[39m.\u001b[39m_handle_eof(packet)\n\u001b[0;32m    394\u001b[0m \u001b[39melif\u001b[39;00m packet[\u001b[39m4\u001b[39m] \u001b[39m==\u001b[39m \u001b[39m255\u001b[39m:\n\u001b[1;32m--> 395\u001b[0m     \u001b[39mraise\u001b[39;00m errors\u001b[39m.\u001b[39mget_exception(packet)\n\u001b[0;32m    397\u001b[0m \u001b[39m# We have a text result set\u001b[39;00m\n\u001b[0;32m    398\u001b[0m column_count \u001b[39m=\u001b[39m \u001b[39mself\u001b[39m\u001b[39m.\u001b[39m_protocol\u001b[39m.\u001b[39mparse_column_count(packet)\n",
      "\u001b[1;31mProgrammingError\u001b[0m: 1054 (42S22): Unknown column 'Web' in 'where clause'"
     ]
    }
   ],
   "source": [
    "cursor.execute(sql_link)\n",
    "result = cursor.fetchall()\n",
    "remove_url_list = [row[0] for row in result]"
   ]
  },
  {
   "cell_type": "code",
   "execution_count": null,
   "metadata": {},
   "outputs": [],
   "source": [
    "def extract(url):\n",
    "    driver.get(url)\n",
    "    Web = '123jobs'\n",
    "    Nganh = 'IT'\n",
    "    Link = url\n",
    "    TenCV = driver.find_element(By.CSS_SELECTOR,'h1.job-title strong').text\n",
    "    try:\n",
    "        CongTy = driver.find_element(By.CSS_SELECTOR,'[class=\"col-md-9 content-group box-apply-top js-item-job\"] p').text\n",
    "    except:\n",
    "        CongTy = \"\"\n",
    "    TinhThanh = driver.find_elements(By.CSS_SELECTOR,'[class=\"item text-black\"]')[0].text\n",
    "    Luong = driver.find_element(By.CSS_SELECTOR,'[class = \"item salary\"]').text\n",
    "    LoaiHinh = driver.find_elements(By.CSS_SELECTOR,'[class=\"item text-black\"]')[1].text\n",
    "    KinhNghiem = driver.find_elements(By.CSS_SELECTOR,'[class=\"item text-black\"]')[2].text\n",
    "    CapBac = driver.find_elements(By.CSS_SELECTOR,'[class=\"item time-expiry-date\"]')[1].text\n",
    "    HanNopCV = driver.find_elements(By.CSS_SELECTOR,'[class=\"item time-expiry-date\"]')[0].text\n",
    "    try:\n",
    "        YeuCau = driver.find_element(By.CSS_SELECTOR, '[class=\"collslap\"]').find_elements(By.CSS_SELECTOR,'[class=\"content-group\"]')[1].text\n",
    "    except:\n",
    "        YeuCau = \"\"\n",
    "    try:\n",
    "        MoTa = driver.find_element(By.CSS_SELECTOR, '[class=\"collslap\"]').find_elements(By.CSS_SELECTOR,'[class=\"content-group\"]')[0].text\n",
    "    except:\n",
    "        MoTa = \"\"\n",
    "    try:\n",
    "        PhucLoi = driver.find_element(By.CSS_SELECTOR, '[class=\"collslap\"]').find_elements(By.CSS_SELECTOR,'[class=\"content-group\"]')[2].text\n",
    "    except:\n",
    "        PhucLoi = \"\"\n",
    "    SoLuong = driver.find_elements(By.CSS_SELECTOR,'[class=\"item text-black\"]')[3].text\n",
    "    cursor.execute(sql, (Web, Nganh, Link, TenCV, CongTy, TinhThanh, Luong, LoaiHinh, KinhNghiem, CapBac, HanNopCV, YeuCau, MoTa, PhucLoi, SoLuong))\n",
    "    conn.commit()\n",
    "\n",
    "    "
   ]
  },
  {
   "cell_type": "code",
   "execution_count": null,
   "metadata": {},
   "outputs": [],
   "source": [
    "job_urls = []\n",
    "def it(url_first):\n",
    "    driver.get(url_first)\n",
    "    job_page_url_list = driver.find_elements(By.CSS_SELECTOR, '[class=\"job__list-item-title\"]')\n",
    "    for url in job_page_url_list:\n",
    "        link = url.find_element(By.CSS_SELECTOR, 'a').get_attribute('href')\n",
    "        job_urls.append(link)\n",
    "    next = driver.find_element(By.CSS_SELECTOR,'[rel=\"Next\"]').get_attribute(\"href\")\n",
    "    if \"page=11\" in next:\n",
    "        next = None\n",
    "    if next is not None:\n",
    "        it(next)"
   ]
  },
  {
   "cell_type": "code",
   "execution_count": null,
   "metadata": {},
   "outputs": [
    {
     "name": "stderr",
     "output_type": "stream",
     "text": [
      "could not detect version_main.therefore, we are assuming it is chrome 108 or higher\n"
     ]
    },
    {
     "name": "stdout",
     "output_type": "stream",
     "text": [
      "Số url cào về:  300\n",
      "Số lượng url mới đã lấy được:  300  url\n"
     ]
    },
    {
     "name": "stderr",
     "output_type": "stream",
     "text": [
      "could not detect version_main.therefore, we are assuming it is chrome 108 or higher\n"
     ]
    },
    {
     "name": "stdout",
     "output_type": "stream",
     "text": [
      "Đang xử lý:  https://123job.vn/viec-lam/thuc-tap-sinh-mobile-android-flutter-5qmEvVbZq8\n"
     ]
    },
    {
     "ename": "IndexError",
     "evalue": "list index out of range",
     "output_type": "error",
     "traceback": [
      "\u001b[1;31m---------------------------------------------------------------------------\u001b[0m",
      "\u001b[1;31mIndexError\u001b[0m                                Traceback (most recent call last)",
      "\u001b[1;32mc:\\Users\\nguye\\OneDrive\\Desktop\\Scrapy_20231-master\\job123.ipynb Cell 17\u001b[0m line \u001b[0;36m1\n\u001b[0;32m     <a href='vscode-notebook-cell:/c%3A/Users/nguye/OneDrive/Desktop/Scrapy_20231-master/job123.ipynb#X21sZmlsZQ%3D%3D?line=10'>11</a>\u001b[0m     \u001b[39mfor\u001b[39;00m i \u001b[39min\u001b[39;00m \u001b[39mrange\u001b[39m(\u001b[39mlen\u001b[39m(job_urls)):\n\u001b[0;32m     <a href='vscode-notebook-cell:/c%3A/Users/nguye/OneDrive/Desktop/Scrapy_20231-master/job123.ipynb#X21sZmlsZQ%3D%3D?line=11'>12</a>\u001b[0m         \u001b[39mprint\u001b[39m(\u001b[39m\"\u001b[39m\u001b[39mĐang xử lý: \u001b[39m\u001b[39m\"\u001b[39m, job_urls[i])\n\u001b[1;32m---> <a href='vscode-notebook-cell:/c%3A/Users/nguye/OneDrive/Desktop/Scrapy_20231-master/job123.ipynb#X21sZmlsZQ%3D%3D?line=12'>13</a>\u001b[0m         extract(job_urls[i])\n\u001b[0;32m     <a href='vscode-notebook-cell:/c%3A/Users/nguye/OneDrive/Desktop/Scrapy_20231-master/job123.ipynb#X21sZmlsZQ%3D%3D?line=13'>14</a>\u001b[0m         \u001b[39mprint\u001b[39m(\u001b[39m\"\u001b[39m\u001b[39mComplete\u001b[39m\u001b[39m\"\u001b[39m)\n\u001b[0;32m     <a href='vscode-notebook-cell:/c%3A/Users/nguye/OneDrive/Desktop/Scrapy_20231-master/job123.ipynb#X21sZmlsZQ%3D%3D?line=14'>15</a>\u001b[0m \u001b[39melse\u001b[39;00m:\n",
      "\u001b[1;32mc:\\Users\\nguye\\OneDrive\\Desktop\\Scrapy_20231-master\\job123.ipynb Cell 17\u001b[0m line \u001b[0;36m1\n\u001b[0;32m      <a href='vscode-notebook-cell:/c%3A/Users/nguye/OneDrive/Desktop/Scrapy_20231-master/job123.ipynb#X21sZmlsZQ%3D%3D?line=8'>9</a>\u001b[0m \u001b[39mexcept\u001b[39;00m:\n\u001b[0;32m     <a href='vscode-notebook-cell:/c%3A/Users/nguye/OneDrive/Desktop/Scrapy_20231-master/job123.ipynb#X21sZmlsZQ%3D%3D?line=9'>10</a>\u001b[0m     CongTy \u001b[39m=\u001b[39m \u001b[39m\"\u001b[39m\u001b[39m\"\u001b[39m\n\u001b[1;32m---> <a href='vscode-notebook-cell:/c%3A/Users/nguye/OneDrive/Desktop/Scrapy_20231-master/job123.ipynb#X21sZmlsZQ%3D%3D?line=10'>11</a>\u001b[0m TinhThanh \u001b[39m=\u001b[39m driver\u001b[39m.\u001b[39;49mfind_elements(By\u001b[39m.\u001b[39;49mCSS_SELECTOR,\u001b[39m'\u001b[39;49m\u001b[39m[class=\u001b[39;49m\u001b[39m\"\u001b[39;49m\u001b[39mitem text-black\u001b[39;49m\u001b[39m\"\u001b[39;49m\u001b[39m]\u001b[39;49m\u001b[39m'\u001b[39;49m)[\u001b[39m0\u001b[39;49m]\u001b[39m.\u001b[39mtext\n\u001b[0;32m     <a href='vscode-notebook-cell:/c%3A/Users/nguye/OneDrive/Desktop/Scrapy_20231-master/job123.ipynb#X21sZmlsZQ%3D%3D?line=11'>12</a>\u001b[0m Luong \u001b[39m=\u001b[39m driver\u001b[39m.\u001b[39mfind_element(By\u001b[39m.\u001b[39mCSS_SELECTOR,\u001b[39m'\u001b[39m\u001b[39m[class = \u001b[39m\u001b[39m\"\u001b[39m\u001b[39mitem salary\u001b[39m\u001b[39m\"\u001b[39m\u001b[39m]\u001b[39m\u001b[39m'\u001b[39m)\u001b[39m.\u001b[39mtext\n\u001b[0;32m     <a href='vscode-notebook-cell:/c%3A/Users/nguye/OneDrive/Desktop/Scrapy_20231-master/job123.ipynb#X21sZmlsZQ%3D%3D?line=12'>13</a>\u001b[0m LoaiHinh \u001b[39m=\u001b[39m driver\u001b[39m.\u001b[39mfind_elements(By\u001b[39m.\u001b[39mCSS_SELECTOR,\u001b[39m'\u001b[39m\u001b[39m[class=\u001b[39m\u001b[39m\"\u001b[39m\u001b[39mitem text-black\u001b[39m\u001b[39m\"\u001b[39m\u001b[39m]\u001b[39m\u001b[39m'\u001b[39m)[\u001b[39m1\u001b[39m]\u001b[39m.\u001b[39mtext\n",
      "\u001b[1;31mIndexError\u001b[0m: list index out of range"
     ]
    }
   ],
   "source": [
    "driver = uc.Chrome(service=ChromeService(ChromeDriverManager().install()),options=create_option())\n",
    "it(\"https://123job.vn/nganh-nghe/vi%E1%BB%87c-l%C3%A0m-it-ph%E1%BA%A7n-m%E1%BB%81m?cat=IT+ph%E1%BA%A7n+m%E1%BB%81m&sort=new&cat_name=IT+ph%E1%BA%A7n+m%E1%BB%81m&page=1\")\n",
    "driver.quit()\n",
    "print(\"Số url cào về: \", len(job_urls))\n",
    "for job_url in remove_url_list:\n",
    "    if job_url in job_urls:\n",
    "        job_urls.remove(job_url)\n",
    "print(\"Số lượng url mới đã lấy được: \", len(job_urls), \" url\")\n",
    "driver = uc.Chrome(service=ChromeService(ChromeDriverManager().install()),options=create_option())\n",
    "if len(job_urls) > 0:\n",
    "    for i in range(len(job_urls)):\n",
    "        print(\"Đang xử lý: \", job_urls[i])\n",
    "        extract(job_urls[i])\n",
    "        \n",
    "        print(\"Complete\")\n",
    "else:\n",
    "    print(\"Không có tin mới\")\n",
    "driver.quit()\n",
    "cursor.close()\n",
    "conn.close()"
   ]
  }
 ],
 "metadata": {
  "kernelspec": {
   "display_name": "Python 3",
   "language": "python",
   "name": "python3"
  },
  "language_info": {
   "codemirror_mode": {
    "name": "ipython",
    "version": 3
   },
   "file_extension": ".py",
   "mimetype": "text/x-python",
   "name": "python",
   "nbconvert_exporter": "python",
   "pygments_lexer": "ipython3",
   "version": "3.12.0"
  }
 },
 "nbformat": 4,
 "nbformat_minor": 2
}
